{
 "cells": [
  {
   "attachments": {},
   "cell_type": "markdown",
   "id": "4d787b03",
   "metadata": {},
   "source": [
    "# definition of the pbc box "
   ]
  },
  {
   "cell_type": "code",
   "execution_count": 4,
   "id": "1ccbf98a",
   "metadata": {},
   "outputs": [],
   "source": [
    "import mdtraj as md\n",
    "import numpy as np\n",
    "# You installed this on base (Python 3.8.3)"
   ]
  },
  {
   "cell_type": "code",
   "execution_count": 14,
   "id": "101ee4e9",
   "metadata": {},
   "outputs": [],
   "source": [
    "structure = md.load('4x_box_translated.pdb')"
   ]
  },
  {
   "cell_type": "code",
   "execution_count": 16,
   "id": "ff65fb2d",
   "metadata": {},
   "outputs": [],
   "source": [
    "# Wrap coordinates to fit within the custom PBC box\n",
    "structure_wrapped = structure.image_molecules()\n",
    "\n",
    "# Save the modified trajectory\n",
    "structure_wrapped.save('4x_wrapped.pdb')"
   ]
  },
  {
   "cell_type": "code",
   "execution_count": 10,
   "id": "a479cd2e",
   "metadata": {},
   "outputs": [
    {
     "name": "stdout",
     "output_type": "stream",
     "text": [
      "\u001b[0;31mSignature:\u001b[0m \u001b[0mstructure\u001b[0m\u001b[0;34m.\u001b[0m\u001b[0mmake_molecules_whole\u001b[0m\u001b[0;34m(\u001b[0m\u001b[0minplace\u001b[0m\u001b[0;34m=\u001b[0m\u001b[0;32mFalse\u001b[0m\u001b[0;34m,\u001b[0m \u001b[0msorted_bonds\u001b[0m\u001b[0;34m=\u001b[0m\u001b[0;32mNone\u001b[0m\u001b[0;34m)\u001b[0m\u001b[0;34m\u001b[0m\u001b[0;34m\u001b[0m\u001b[0m\n",
      "\u001b[0;31mDocstring:\u001b[0m\n",
      "Only make molecules whole\n",
      "\n",
      "Parameters\n",
      "----------\n",
      "inplace : bool\n",
      "    If False, a new Trajectory is created and returned.\n",
      "    If True, this Trajectory is modified directly.\n",
      "sorted_bonds : array of shape (n_bonds, 2)\n",
      "    Pairs of atom indices that define bonds, in sorted order.\n",
      "    If not specified, these will be determined from the trajectory's\n",
      "    topology.\n",
      "\n",
      "See Also\n",
      "--------\n",
      "image_molecules\n",
      "\u001b[0;31mFile:\u001b[0m      /opt/anaconda3/lib/python3.8/site-packages/mdtraj/core/trajectory.py\n",
      "\u001b[0;31mType:\u001b[0m      method\n"
     ]
    }
   ],
   "source": [
    "structure.make_molecules_whole?"
   ]
  },
  {
   "cell_type": "code",
   "execution_count": 18,
   "id": "2587e7d5",
   "metadata": {},
   "outputs": [
    {
     "name": "stdout",
     "output_type": "stream",
     "text": [
      "\u001b[0;31mSignature:\u001b[0m \u001b[0mstructure\u001b[0m\u001b[0;34m.\u001b[0m\u001b[0mrestrict_atoms\u001b[0m\u001b[0;34m(\u001b[0m\u001b[0;34m*\u001b[0m\u001b[0margs\u001b[0m\u001b[0;34m,\u001b[0m \u001b[0;34m**\u001b[0m\u001b[0mkwargs\u001b[0m\u001b[0;34m)\u001b[0m\u001b[0;34m\u001b[0m\u001b[0;34m\u001b[0m\u001b[0m\n",
      "\u001b[0;31mDocstring:\u001b[0m\n",
      "DEPRECATED: restrict_atoms was replaced by atom_slice and will be removed in 2.0\n",
      "\n",
      "Retain only a subset of the atoms in a trajectory\n",
      "\n",
      "        Deletes atoms not in `atom_indices`, and re-indexes those that remain\n",
      "\n",
      "        Parameters\n",
      "        ----------\n",
      "        atom_indices : array-like, dtype=int, shape=(n_atoms)\n",
      "            List of atom indices to keep.\n",
      "        inplace : bool, default=True\n",
      "            If ``True``, the operation is done inplace, modifying ``self``.\n",
      "            Otherwise, a copy is returned with the restricted atoms, and\n",
      "            ``self`` is not modified.\n",
      "\n",
      "        Returns\n",
      "        -------\n",
      "        traj : md.Trajectory\n",
      "            The return value is either ``self``, or the new trajectory,\n",
      "            depending on the value of ``inplace``.\n",
      "        \n",
      "\u001b[0;31mFile:\u001b[0m      /opt/anaconda3/lib/python3.8/site-packages/mdtraj/utils/__init__.py\n",
      "\u001b[0;31mType:\u001b[0m      method\n"
     ]
    }
   ],
   "source": [
    "structure.restrict_atoms?"
   ]
  },
  {
   "cell_type": "code",
   "execution_count": null,
   "id": "8df01575",
   "metadata": {},
   "outputs": [],
   "source": []
  }
 ],
 "metadata": {
  "kernelspec": {
   "display_name": "Python 3 (ipykernel)",
   "language": "python",
   "name": "python3"
  },
  "language_info": {
   "codemirror_mode": {
    "name": "ipython",
    "version": 3
   },
   "file_extension": ".py",
   "mimetype": "text/x-python",
   "name": "python",
   "nbconvert_exporter": "python",
   "pygments_lexer": "ipython3",
   "version": "3.8.3"
  }
 },
 "nbformat": 4,
 "nbformat_minor": 5
}

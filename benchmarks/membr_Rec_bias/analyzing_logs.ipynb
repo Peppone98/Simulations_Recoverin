{
 "cells": [
  {
   "attachments": {},
   "cell_type": "markdown",
   "metadata": {},
   "source": [
    "# Analyzing the `.log` files "
   ]
  },
  {
   "cell_type": "code",
   "execution_count": 1,
   "metadata": {},
   "outputs": [],
   "source": [
    "import pandas as pd\n",
    "import numpy as np"
   ]
  },
  {
   "cell_type": "code",
   "execution_count": 4,
   "metadata": {},
   "outputs": [],
   "source": [
    "n_cores = np.array([4, 4, 4, 6, 8, 8, 8, 8, 12, 12])\n",
    "n_mpiprocs = np.array([4, 2, 1, 1, 8, 4, 2, 1, 6, 1])\n",
    "ns_per_day = np.array([24.554, 4.407, 7.483, 9.667, 42.347, 30.861, 11.885, 7.845, 22.349, 15.049])\n",
    "hours_per_ns = np.array([0.977, 5.446, 3.207, 2.483, 0.567, 0.778, 2.019, 3.059, 1.074, 1.595])"
   ]
  },
  {
   "cell_type": "code",
   "execution_count": 5,
   "metadata": {},
   "outputs": [
    {
     "data": {
      "text/html": [
       "<div>\n",
       "<style scoped>\n",
       "    .dataframe tbody tr th:only-of-type {\n",
       "        vertical-align: middle;\n",
       "    }\n",
       "\n",
       "    .dataframe tbody tr th {\n",
       "        vertical-align: top;\n",
       "    }\n",
       "\n",
       "    .dataframe thead th {\n",
       "        text-align: right;\n",
       "    }\n",
       "</style>\n",
       "<table border=\"1\" class=\"dataframe\">\n",
       "  <thead>\n",
       "    <tr style=\"text-align: right;\">\n",
       "      <th></th>\n",
       "      <th>ncpus</th>\n",
       "      <th>mpiprocs</th>\n",
       "      <th>ns/day</th>\n",
       "      <th>hours/ns</th>\n",
       "    </tr>\n",
       "  </thead>\n",
       "  <tbody>\n",
       "    <tr>\n",
       "      <th>0</th>\n",
       "      <td>4</td>\n",
       "      <td>4</td>\n",
       "      <td>24.554</td>\n",
       "      <td>0.977</td>\n",
       "    </tr>\n",
       "    <tr>\n",
       "      <th>1</th>\n",
       "      <td>4</td>\n",
       "      <td>2</td>\n",
       "      <td>4.407</td>\n",
       "      <td>5.446</td>\n",
       "    </tr>\n",
       "    <tr>\n",
       "      <th>2</th>\n",
       "      <td>4</td>\n",
       "      <td>1</td>\n",
       "      <td>7.483</td>\n",
       "      <td>3.207</td>\n",
       "    </tr>\n",
       "    <tr>\n",
       "      <th>3</th>\n",
       "      <td>6</td>\n",
       "      <td>1</td>\n",
       "      <td>9.667</td>\n",
       "      <td>2.483</td>\n",
       "    </tr>\n",
       "    <tr>\n",
       "      <th>4</th>\n",
       "      <td>8</td>\n",
       "      <td>8</td>\n",
       "      <td>42.347</td>\n",
       "      <td>0.567</td>\n",
       "    </tr>\n",
       "    <tr>\n",
       "      <th>5</th>\n",
       "      <td>8</td>\n",
       "      <td>4</td>\n",
       "      <td>30.861</td>\n",
       "      <td>0.778</td>\n",
       "    </tr>\n",
       "    <tr>\n",
       "      <th>6</th>\n",
       "      <td>8</td>\n",
       "      <td>2</td>\n",
       "      <td>11.885</td>\n",
       "      <td>2.019</td>\n",
       "    </tr>\n",
       "    <tr>\n",
       "      <th>7</th>\n",
       "      <td>8</td>\n",
       "      <td>1</td>\n",
       "      <td>7.845</td>\n",
       "      <td>3.059</td>\n",
       "    </tr>\n",
       "    <tr>\n",
       "      <th>8</th>\n",
       "      <td>12</td>\n",
       "      <td>6</td>\n",
       "      <td>22.349</td>\n",
       "      <td>1.074</td>\n",
       "    </tr>\n",
       "    <tr>\n",
       "      <th>9</th>\n",
       "      <td>12</td>\n",
       "      <td>1</td>\n",
       "      <td>15.049</td>\n",
       "      <td>1.595</td>\n",
       "    </tr>\n",
       "  </tbody>\n",
       "</table>\n",
       "</div>"
      ],
      "text/plain": [
       "   ncpus  mpiprocs  ns/day  hours/ns\n",
       "0      4         4  24.554     0.977\n",
       "1      4         2   4.407     5.446\n",
       "2      4         1   7.483     3.207\n",
       "3      6         1   9.667     2.483\n",
       "4      8         8  42.347     0.567\n",
       "5      8         4  30.861     0.778\n",
       "6      8         2  11.885     2.019\n",
       "7      8         1   7.845     3.059\n",
       "8     12         6  22.349     1.074\n",
       "9     12         1  15.049     1.595"
      ]
     },
     "execution_count": 5,
     "metadata": {},
     "output_type": "execute_result"
    }
   ],
   "source": [
    "# Posso fare un plot in cui ad ogni punto associo una coppia\n",
    "\n",
    "d = {'ncpus': n_cores, 'mpiprocs': n_mpiprocs, 'ns/day': ns_per_day, 'hours/ns': hours_per_ns}\n",
    "df = pd.DataFrame(data=d)\n",
    "df"
   ]
  },
  {
   "cell_type": "code",
   "execution_count": 6,
   "metadata": {},
   "outputs": [],
   "source": [
    "#specify path for export\n",
    "path = \"/Users/giuseppegambini/Desktop/TESI/simulations/benchmarks/benchmarks_nmRec/membr_Rec_bias.txt\"\n",
    "#export DataFrame to text file\n",
    "with open(path, 'a') as f:\n",
    "    df_string = df.to_string(header=False, index=False)\n",
    "    f.write(df_string)"
   ]
  },
  {
   "cell_type": "code",
   "execution_count": 7,
   "metadata": {},
   "outputs": [],
   "source": [
    "import matplotlib.pyplot as plt"
   ]
  },
  {
   "cell_type": "code",
   "execution_count": 8,
   "metadata": {},
   "outputs": [],
   "source": [
    "z = []\n",
    "for i in range(len(n_cores)):\n",
    "    z.append('(' + str(n_cores[i]) + ', ' + str(n_mpiprocs[i]) + ')')"
   ]
  },
  {
   "cell_type": "code",
   "execution_count": 17,
   "metadata": {},
   "outputs": [
    {
     "data": {
      "image/png": "[encoded data removed]",
      "text/plain": [
       "<Figure size 864x288 with 1 Axes>"
      ]
     },
     "metadata": {
      "needs_background": "light"
     },
     "output_type": "display_data"
    }
   ],
   "source": [
    "plt.figure().set_figwidth(12)\n",
    "plt.plot(df[\"ncpus\"], df[\"ns/day\"], 'b')\n",
    "\n",
    "for i in range(0, len(n_mpiprocs)):\n",
    "    plt.text(df[\"ncpus\"][i], df[\"ns/day\"][i], z[i])\n",
    "# qua puoi aggiungerci le labels e allungare il plot \n",
    "\n",
    "plt.grid()\n",
    "plt.xlabel(\"Number of cores\")\n",
    "plt.ylabel(\"ns/day\")\n",
    "plt.title(\"Performances of gromacs on GPUs with plumed\")\n",
    "plt.savefig(\"/Users/giuseppegambini/Desktop/TESI/simulations/benchmarks/benchmarks_membr/membr_Rec_GPU.png\")"
   ]
  },
  {
   "cell_type": "code",
   "execution_count": null,
   "metadata": {},
   "outputs": [],
   "source": []
  }
 ],
 "metadata": {
  "kernelspec": {
   "display_name": "QCB",
   "language": "python",
   "name": "python3"
  },
  "language_info": {
   "codemirror_mode": {
    "name": "ipython",
    "version": 3
   },
   "file_extension": ".py",
   "mimetype": "text/x-python",
   "name": "python",
   "nbconvert_exporter": "python",
   "pygments_lexer": "ipython3",
   "version": "3.8.3"
  },
  "orig_nbformat": 4
 },
 "nbformat": 4,
 "nbformat_minor": 2
}

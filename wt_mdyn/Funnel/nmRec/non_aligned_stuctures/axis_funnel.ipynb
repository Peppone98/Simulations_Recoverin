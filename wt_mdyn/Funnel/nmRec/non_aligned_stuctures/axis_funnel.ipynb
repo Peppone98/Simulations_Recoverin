{
 "cells": [
  {
   "cell_type": "code",
   "execution_count": 1,
   "metadata": {},
   "outputs": [],
   "source": [
    "# The structure of the 4x4 matrix returned by vmd is the following \n",
    "\n",
    "# | R11  R12  R13  Tx |\n",
    "# | R21  R22  R23  Ty |\n",
    "# | R31  R32  R33  Tz |\n",
    "# |  0    0    0    1 |\n",
    "import numpy as np"
   ]
  },
  {
   "cell_type": "code",
   "execution_count": 25,
   "metadata": {},
   "outputs": [],
   "source": [
    "def rotate_and_translate_points(A, B, rotation_matrix, translation_vector):\n",
    "    # Step 1: Create 3D vectors representing the points A and B\n",
    "    vector_A = np.array(A)\n",
    "    vector_B = np.array(B)\n",
    "\n",
    "    # Step 2: Apply the rotation matrix to the vectors\n",
    "    rotated_vector_A = np.dot(rotation_matrix.transpose(), vector_A)\n",
    "    rotated_vector_B = np.dot(rotation_matrix.transpose(), vector_B)\n",
    "\n",
    "    # Step 3: Translate the vectors by the translation vector\n",
    "    translated_vector_A = rotated_vector_A - translation_vector\n",
    "    translated_vector_B = rotated_vector_B - translation_vector\n",
    "    \n",
    "    # Step 4: Return the new points A' and B'\n",
    "    new_point_A = translated_vector_A\n",
    "    new_point_B = translated_vector_B\n",
    "    \n",
    "    return new_point_A, new_point_B"
   ]
  },
  {
   "cell_type": "code",
   "execution_count": 26,
   "metadata": {},
   "outputs": [
    {
     "name": "stdout",
     "output_type": "stream",
     "text": [
      "Original Points A and B: [84.21, 61.81, 64.81] [87.19, 59.68, 61.41]\n",
      "Rotated and Translated Points A' and B': [97.22507051 14.89115567 40.85398364] [100.38913578  11.16323116  39.82026739]\n"
     ]
    }
   ],
   "source": [
    "# Example usage:\n",
    "# Define points A and B\n",
    "A = [84.21, 61.81, 64.81]\n",
    "B = [87.19, 59.68, 61.41]\n",
    "\n",
    "# Define a rotation matrix (for example, a 90-degree rotation around the z-axis)\n",
    "rotation_matrix = np.array([\n",
    "    [0.963267982006073, -0.05470409244298935, 0.2629111111164093],\n",
    "    [0.1801239252090454, 0.8577513098716736, -0.4814748764038086],\n",
    "    [-0.1991737186908722, 0.5111458897590637, 0.8360978960990906]\n",
    "])\n",
    "\n",
    "#rotation_matrix = np.array([\n",
    "#    [1, 0, 0],\n",
    "#    [0, 1, 0], \n",
    "#    [0, 0, 1]\n",
    "#])\n",
    "\n",
    "# Define a translation vector\n",
    "translation_vector = np.array([-17.883262634277344, 66.64718627929688, 5.713303565979004])\n",
    "#translation_vector = np.array([0, 0, 0])\n",
    "\n",
    "# Rotate and translate the points A and B to get A' and B'\n",
    "new_point_A, new_point_B = rotate_and_translate_points(A, B, rotation_matrix, translation_vector)\n",
    "\n",
    "print(\"Original Points A and B:\", A, B)\n",
    "print(\"Rotated and Translated Points A' and B':\", new_point_A, new_point_B)"
   ]
  },
  {
   "cell_type": "markdown",
   "metadata": {},
   "source": []
  },
  {
   "cell_type": "code",
   "execution_count": null,
   "metadata": {},
   "outputs": [],
   "source": []
  },
  {
   "cell_type": "markdown",
   "metadata": {},
   "source": []
  },
  {
   "cell_type": "code",
   "execution_count": null,
   "metadata": {},
   "outputs": [],
   "source": []
  },
  {
   "cell_type": "code",
   "execution_count": null,
   "metadata": {},
   "outputs": [],
   "source": []
  }
 ],
 "metadata": {
  "kernelspec": {
   "display_name": "QCB",
   "language": "python",
   "name": "python3"
  },
  "language_info": {
   "codemirror_mode": {
    "name": "ipython",
    "version": 3
   },
   "file_extension": ".py",
   "mimetype": "text/x-python",
   "name": "python",
   "nbconvert_exporter": "python",
   "pygments_lexer": "ipython3",
   "version": "3.8.1"
  },
  "orig_nbformat": 4
 },
 "nbformat": 4,
 "nbformat_minor": 2
}

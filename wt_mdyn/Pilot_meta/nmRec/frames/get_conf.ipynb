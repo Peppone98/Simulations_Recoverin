{
 "cells": [
  {
   "cell_type": "code",
   "execution_count": 2,
   "id": "79a187b8",
   "metadata": {},
   "outputs": [],
   "source": [
    "import numpy as np\n",
    "import matplotlib.pyplot as plt\n",
    "from pathlib import Path\n",
    "from os import fspath\n",
    "%matplotlib inline\n",
    "import seaborn as sns\n",
    "import math\n",
    "import plotly.express as px\n",
    "import pandas as pd\n",
    "import MDAnalysis as mda\n",
    "\n",
    "import numpy as np\n",
    "import plumed\n",
    "from mpl_toolkits.mplot3d import Axes3D\n",
    "from matplotlib import cm\n",
    "import math\n",
    "from sklearn.cluster import KMeans"
   ]
  },
  {
   "cell_type": "code",
   "execution_count": 6,
   "id": "ac420b8f",
   "metadata": {},
   "outputs": [
    {
     "name": "stderr",
     "output_type": "stream",
     "text": [
      "/var/folders/hn/315sv5754l3bwzn1_mtrpscc0000gn/T/ipykernel_1791/3662556624.py:2: UserWarning:\n",
      "\n",
      "cannot load PLUMED instance, conversions will not be available\n",
      "\n"
     ]
    }
   ],
   "source": [
    "# Devo prima creare un array con tutti i valori assunti dalla variabile collettiva\n",
    "data_colvar = plumed.read_as_pandas(\"COLVAR\")"
   ]
  },
  {
   "cell_type": "code",
   "execution_count": 7,
   "id": "c86b6659",
   "metadata": {},
   "outputs": [
    {
     "name": "stderr",
     "output_type": "stream",
     "text": [
      "No handles with labels found to put in legend.\n"
     ]
    },
    {
     "data": {
      "text/plain": [
       "<matplotlib.legend.Legend at 0x7f95bcf108e0>"
      ]
     },
     "execution_count": 7,
     "metadata": {},
     "output_type": "execute_result"
    },
    {
     "data": {
      "image/png": "[encoded data removed]",
      "text/plain": [
       "<Figure size 500x300 with 1 Axes>"
      ]
     },
     "metadata": {},
     "output_type": "display_data"
    }
   ],
   "source": [
    "plt.rcParams[\"figure.figsize\"] = (5, 3)\n",
    "plt.plot(data_colvar[\"time\"]*0.01, data_colvar[\"d2\"])\n",
    "plt.grid()\n",
    "plt.title(\"Metadynamics\")\n",
    "plt.ylabel(\"Coordination number\")\n",
    "plt.xlabel(\"Time [ns]\")\n",
    "plt.legend(loc=\"best\")"
   ]
  },
  {
   "cell_type": "code",
   "execution_count": 8,
   "id": "d765ebd0",
   "metadata": {},
   "outputs": [
    {
     "name": "stdout",
     "output_type": "stream",
     "text": [
      "Closest frames: [(2620, 0.049993), (6330, 0.100005), (26135, 0.25000500000000003), (22970, 0.399994), (29463, 0.549951), (28869, 0.7000029999999999), (31882, 0.850093), (31796, 0.9995629999999999)]\n"
     ]
    }
   ],
   "source": [
    "# Attenzione: il COLVAR è campionato ad una frequenza diversa rispetto al COORD\n",
    "# L'idea più semplice a questo punto è prendere le distanze salvate in COORD (e non su COLVAR)\n",
    "\n",
    "# Seleziono configurazioni più vicine a [0.05, 0.1, 0.25, 0.4, 0.55, 0.7, 0.85, 1]\n",
    "\n",
    "# Recover the distances\n",
    "\n",
    "def find_closest_elements(array, numbers):\n",
    "    result = []\n",
    "\n",
    "    for num in numbers:\n",
    "        # Find the index of the element in the array that is closest to num\n",
    "        index = np.argmin(np.abs(np.array(array) - num))\n",
    "        result.append((index, array[index]))\n",
    "\n",
    "    return result\n",
    "\n",
    "config = [0.05, 0.1, 0.25, 0.4, 0.55, 0.7, 0.85, 1]\n",
    "\n",
    "output = find_closest_elements(data_colvar[\"d2\"], config)\n",
    "\n",
    "print(\"Closest frames:\", output)"
   ]
  },
  {
   "cell_type": "code",
   "execution_count": 9,
   "id": "2bf3db26",
   "metadata": {},
   "outputs": [],
   "source": [
    "frames = []\n",
    "for i in range(len(output)):\n",
    "    frames.append(output[i][0])"
   ]
  },
  {
   "cell_type": "code",
   "execution_count": 10,
   "id": "aee23d6c",
   "metadata": {},
   "outputs": [
    {
     "data": {
      "text/plain": [
       "[2620, 6330, 26135, 22970, 29463, 28869, 31882, 31796]"
      ]
     },
     "execution_count": 10,
     "metadata": {},
     "output_type": "execute_result"
    }
   ],
   "source": [
    "frames"
   ]
  },
  {
   "cell_type": "code",
   "execution_count": 22,
   "id": "7327ee86",
   "metadata": {},
   "outputs": [
    {
     "data": {
      "text/plain": [
       "array([1., 2., 1., 1., 3., 3., 3., 0.])"
      ]
     },
     "execution_count": 22,
     "metadata": {},
     "output_type": "execute_result"
    }
   ],
   "source": [
    "labels_sim[frames]"
   ]
  },
  {
   "cell_type": "code",
   "execution_count": null,
   "id": "a32e5aa0",
   "metadata": {},
   "outputs": [],
   "source": []
  }
 ],
 "metadata": {
  "kernelspec": {
   "display_name": "Python 3 (ipykernel)",
   "language": "python",
   "name": "python3"
  },
  "language_info": {
   "codemirror_mode": {
    "name": "ipython",
    "version": 3
   },
   "file_extension": ".py",
   "mimetype": "text/x-python",
   "name": "python",
   "nbconvert_exporter": "python",
   "pygments_lexer": "ipython3",
   "version": "3.8.1"
  }
 },
 "nbformat": 4,
 "nbformat_minor": 5
}
